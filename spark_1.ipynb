{
  "nbformat": 4,
  "nbformat_minor": 0,
  "metadata": {
    "colab": {
      "name": "spark-1.ipynb",
      "provenance": [],
      "collapsed_sections": [],
      "authorship_tag": "ABX9TyPsWayS73MN7B3VzB/B71cZ",
      "include_colab_link": true
    },
    "kernelspec": {
      "name": "python3",
      "display_name": "Python 3"
    },
    "language_info": {
      "name": "python"
    }
  },
  "cells": [
    {
      "cell_type": "markdown",
      "metadata": {
        "id": "view-in-github",
        "colab_type": "text"
      },
      "source": [
        "<a href=\"https://colab.research.google.com/github/ChethaniDilhari/Sri-Lankan-Sign-Language-to-text-Converter/blob/main/spark_1.ipynb\" target=\"_parent\"><img src=\"https://colab.research.google.com/assets/colab-badge.svg\" alt=\"Open In Colab\"/></a>"
      ]
    },
    {
      "cell_type": "code",
      "metadata": {
        "id": "xbAZj7CQE4DD"
      },
      "source": [
        "import cv2 #openCv\n",
        "from google.colab import drive\n",
        "import os #to interact with operating system\n",
        "import time\n",
        "import uuid #name image paths \n",
        "#Universal Unique Identifier, is a python library which helps in generating random objects of 128 bits as ids. \n",
        "#It provides the uniqueness as it generates ids"
      ],
      "execution_count": 8,
      "outputs": []
    },
    {
      "cell_type": "code",
      "metadata": {
        "id": "kHM3SiDgbp7y"
      },
      "source": [
        "IMAGES_PATH = '/content/gdrive/My Drive/Tensorflow/workspace/images/collectedimages' #setting up the path save the colllected images"
      ],
      "execution_count": 9,
      "outputs": []
    },
    {
      "cell_type": "code",
      "metadata": {
        "id": "32W3bXZRgmBM"
      },
      "source": [
        "lables = ['hello','yes','no']\n",
        "number_img = 15 #number of images we are collecting for each label\n",
        "#13 for training and 2 for testing"
      ],
      "execution_count": 14,
      "outputs": []
    },
    {
      "cell_type": "code",
      "metadata": {
        "colab": {
          "base_uri": "https://localhost:8080/"
        },
        "id": "-4hu0M8Kg6M6",
        "outputId": "277733e0-6421-4eb0-a5fb-9ba04101d317"
      },
      "source": [
        "for lable in lables:\n",
        "  #!mkdir {'Tensorflow\\workspace\\images\\collectedimages\\\\'+lable}\n",
        "  cap = cv2.VideoCapture(0) #starting web cam and capture video(0 - camera on this computer)\n",
        "  print('Collecting images for {}'.format(lable))\n",
        "  time.sleep(5)\n",
        "  for imgnum in range (number_img):\n",
        "    ret, frame = cap.read()\n",
        "    imgname =  os.path.join(IMAGES_PATH, lable, lable+'.'+'{}.jpg'.format(str(uuid.uuid1())))\n",
        "    cv2.imwrite(imgname, frame)\n",
        "    cv2.imshow('frame', frame)\n",
        "    time.sleep(2)\n",
        "\n",
        "    if cv2.waitKey(1) & 0xFF == ord('q'):\n",
        "      break\n",
        "  cap.release()"
      ],
      "execution_count": 13,
      "outputs": [
        {
          "output_type": "stream",
          "text": [
            "Collecting images for hello\n",
            "Collecting images for thanks\n",
            "Collecting images for yes\n",
            "Collecting images for no\n",
            "Collecting images for iloveyou\n"
          ],
          "name": "stdout"
        }
      ]
    },
    {
      "cell_type": "code",
      "metadata": {
        "colab": {
          "base_uri": "https://localhost:8080/"
        },
        "id": "sxS6O20y1Iiw",
        "outputId": "5db07a6a-60d9-472e-e854-243da3eae8ee"
      },
      "source": [
        ""
      ],
      "execution_count": null,
      "outputs": [
        {
          "output_type": "stream",
          "text": [
            "ERROR: unknown command \"python\"\n"
          ],
          "name": "stdout"
        }
      ]
    }
  ]
}