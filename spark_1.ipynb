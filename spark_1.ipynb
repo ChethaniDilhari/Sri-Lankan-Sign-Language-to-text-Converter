{
  "nbformat": 4,
  "nbformat_minor": 0,
  "metadata": {
    "colab": {
      "name": "spark-1.ipynb",
      "provenance": [],
      "collapsed_sections": [],
      "authorship_tag": "ABX9TyOG5lA+ZtIJIHsHc2L+xxnt",
      "include_colab_link": true
    },
    "kernelspec": {
      "name": "python3",
      "display_name": "Python 3"
    },
    "language_info": {
      "name": "python"
    }
  },
  "cells": [
    {
      "cell_type": "markdown",
      "metadata": {
        "id": "view-in-github",
        "colab_type": "text"
      },
      "source": [
        "<a href=\"https://colab.research.google.com/github/ChethaniDilhari/Sri-Lankan-Sign-Language-to-text-Converter/blob/main/spark_1.ipynb\" target=\"_parent\"><img src=\"https://colab.research.google.com/assets/colab-badge.svg\" alt=\"Open In Colab\"/></a>"
      ]
    },
    {
      "cell_type": "code",
      "metadata": {
        "id": "xbAZj7CQE4DD"
      },
      "source": [
        "import cv2 #openCv\n",
        "import os #to interact with operating system\n",
        "import time\n",
        "import uuid #name image paths \n",
        "#Universal Unique Identifier, is a python library which helps in generating random objects of 128 bits as ids. \n",
        "#It provides the uniqueness as it generates ids"
      ],
      "execution_count": 6,
      "outputs": []
    },
    {
      "cell_type": "code",
      "metadata": {
        "id": "kHM3SiDgbp7y"
      },
      "source": [
        "IMAGES_PATH = 'Tensorflow/workspace/images/collectedimages' #setting up the path save the colllected images"
      ],
      "execution_count": 6,
      "outputs": []
    },
    {
      "cell_type": "code",
      "metadata": {
        "id": "32W3bXZRgmBM"
      },
      "source": [
        "lables = ['hello','thanks','yes','no','iloveyou']\n",
        "number_img = 15 #number of images we are collecting for each label\n",
        "#13 for training and 2 for testing"
      ],
      "execution_count": null,
      "outputs": []
    },
    {
      "cell_type": "code",
      "metadata": {
        "id": "-4hu0M8Kg6M6"
      },
      "source": [
        "for lable in lables:\n",
        "  !mkdir {'Tensorflow\\workspace\\images\\collectedimages\\\\'+lable}\n",
        "  cap = cv2.VideoCapture(0)\n",
        "  print('Collecting images fo {}'.format(lable))\n",
        "  time.sleep(5)\n",
        "  for imgnum in range (number_imgs):\n",
        "    ret, frame = cap.read()\n",
        "    imagename =  os.path.join(IMAGES_PATH, lable, lable+'.'+'{}.jpg'.format(str(uuid.uuid1())))\n",
        "    cv2.imwrite(imgname, frame)\n",
        "    cv2.imshow('frame', frame)\n",
        "    time.sleep(2)\n",
        "\n",
        "    if cv2.waitkey(1) && 0xFF == ord('q'):\n",
        "      break\n",
        "  cap.release()"
      ],
      "execution_count": null,
      "outputs": []
    }
  ]
}