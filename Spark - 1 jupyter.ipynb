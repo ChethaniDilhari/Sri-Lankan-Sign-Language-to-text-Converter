{
 "cells": [
  {
   "cell_type": "code",
   "execution_count": 3,
   "metadata": {},
   "outputs": [],
   "source": [
    "import cv2 #openCv\n",
    "import os #to interact with operating system\n",
    "import time\n",
    "import uuid #name image paths \n",
    "#Universal Unique Identifier, is a python library which helps in generating random objects of 128 bits as ids. \n",
    "#It provides the uniqueness as it generates ids"
   ]
  },
  {
   "cell_type": "code",
   "execution_count": 4,
   "metadata": {},
   "outputs": [],
   "source": [
    "IMAGES_PATH = 'Tensorflow/workspace/images/collectedimages' #setting up the path save the colllected images"
   ]
  },
  {
   "cell_type": "code",
   "execution_count": 5,
   "metadata": {},
   "outputs": [],
   "source": [
    "lables = ['hello','yes','no']\n",
    "number_img = 15 #number of images we are collecting for each label\n",
    "#13 for training and 2 for testing"
   ]
  },
  {
   "cell_type": "code",
   "execution_count": 6,
   "metadata": {
    "scrolled": true
   },
   "outputs": [
    {
     "name": "stderr",
     "output_type": "stream",
     "text": [
      "A subdirectory or file Tensorflow\\workspace\\images\\collectedimages\\hello already exists.\n"
     ]
    },
    {
     "name": "stdout",
     "output_type": "stream",
     "text": [
      "Collecting images for hello\n",
      "Collecting images for yes\n",
      "Collecting images for no\n"
     ]
    }
   ],
   "source": [
    "for lable in lables:\n",
    "  !mkdir {'Tensorflow\\workspace\\images\\collectedimages\\\\'+lable}\n",
    "  cap = cv2.VideoCapture(0) #starting web cam and capture video(0 - camera on this computer)\n",
    "  print('Collecting images for {}'.format(lable))\n",
    "  time.sleep(5)\n",
    "  for imgnum in range (number_img):\n",
    "    ret, frame = cap.read()\n",
    "    imgname =  os.path.join(IMAGES_PATH, lable, lable+'.'+'{}.jpg'.format(str(uuid.uuid1())))\n",
    "    cv2.imwrite(imgname, frame)\n",
    "    cv2.imshow('frame', frame)\n",
    "    time.sleep(2)\n",
    "\n",
    "    if cv2.waitKey(1) & 0xFF == ord('q'):\n",
    "      break\n",
    "  cap.release()"
   ]
  },
  {
   "cell_type": "code",
   "execution_count": null,
   "metadata": {},
   "outputs": [],
   "source": []
  }
 ],
 "metadata": {
  "kernelspec": {
   "display_name": "Python 3",
   "language": "python",
   "name": "python3"
  },
  "language_info": {
   "codemirror_mode": {
    "name": "ipython",
    "version": 3
   },
   "file_extension": ".py",
   "mimetype": "text/x-python",
   "name": "python",
   "nbconvert_exporter": "python",
   "pygments_lexer": "ipython3",
   "version": "3.8.5"
  }
 },
 "nbformat": 4,
 "nbformat_minor": 4
}
